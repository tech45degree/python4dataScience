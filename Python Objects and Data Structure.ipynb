{
 "cells": [
  {
   "cell_type": "markdown",
   "id": "ac245142",
   "metadata": {},
   "source": [
    "# Pyhton Objects and Data Strcutures"
   ]
  },
  {
   "cell_type": "markdown",
   "id": "aad94225",
   "metadata": {},
   "source": [
    "In this lecture we will explore objects and data structure in python\n",
    "\n",
    "We will explore below topics\n",
    "\n",
    "    1.) Variables\n",
    "    2.) Numbers and their types\n",
    "    3.) Boolean\n",
    "    4.) Strings\n",
    "    5.) Lists\n",
    "    6.) Tuple\n",
    "    7.) Sets\n",
    "    8.) Dictionaries"
   ]
  },
  {
   "cell_type": "markdown",
   "id": "3e1a81a7",
   "metadata": {},
   "source": [
    "# Variables\n",
    "\n",
    "Variables are containers to store data, and it get created once a value assign to it. e.g. tax_rate = 15"
   ]
  },
  {
   "cell_type": "code",
   "execution_count": null,
   "id": "3e7cba1e",
   "metadata": {},
   "outputs": [],
   "source": [
    "# In python we dont need to declare variable type\n",
    "\n",
    "name = \"Jhon\"\n",
    "quantity = 55\n",
    "unit_price = 23.56"
   ]
  },
  {
   "cell_type": "code",
   "execution_count": null,
   "id": "c62a8c12",
   "metadata": {},
   "outputs": [],
   "source": [
    "print(name)\n",
    "print(quantity)\n",
    "print(unit_price)"
   ]
  },
  {
   "cell_type": "code",
   "execution_count": null,
   "id": "6d8ee3a4",
   "metadata": {},
   "outputs": [],
   "source": [
    "# varibales type can be change by changing value to it\n",
    "# print unit_price type\n",
    "print(type(unit_price))"
   ]
  },
  {
   "cell_type": "code",
   "execution_count": null,
   "id": "d64abcad",
   "metadata": {},
   "outputs": [],
   "source": [
    "# assign 1000 to unit_price and print its type\n",
    "unit_price = 1000\n",
    "print(type(unit_price))"
   ]
  },
  {
   "cell_type": "markdown",
   "id": "06173aba",
   "metadata": {},
   "source": [
    "## Naming Convention"
   ]
  },
  {
   "cell_type": "markdown",
   "id": "7c4925a0",
   "metadata": {},
   "source": [
    "Following rules should be considered while naming variables however these are not hard rules to follow.\n",
    "\n",
    "    1.) Variables names should not start from numbers e.g. 34price\n",
    "    2.) No spaces in names, use _ (underscores) instead of spaces e.g. first_name or use camel notation in name e.g. firstName\n",
    "    3.) Dont use special characters in naming such as !@#$%^&*()<>'\":;?/ only use underscores or hyphens\n",
    "    4.) it is considered best case to use lower case letters\n",
    "    5.) dont use reserved keyword in naming e.g. 'list', 'set', 'string'\n",
    "    \n",
    "use meaningful variables names to keep track of variables."
   ]
  },
  {
   "cell_type": "code",
   "execution_count": null,
   "id": "a7648438",
   "metadata": {},
   "outputs": [],
   "source": [
    "# operation on two variables and assign result to third variables\n",
    "net_price =  unit_price * quantity"
   ]
  },
  {
   "cell_type": "code",
   "execution_count": null,
   "id": "dda38fca",
   "metadata": {},
   "outputs": [],
   "source": [
    "# print variable\n",
    "print(net_price)"
   ]
  },
  {
   "cell_type": "markdown",
   "id": "84d81830",
   "metadata": {},
   "source": [
    "# Numbers ant its types\n",
    "\n",
    "In python we have different types of number but we will focus on 'int' and 'float' in this lecture\n",
    "\n",
    "### int \n",
    "\n",
    "integers are just whole number poisitve or negative e.g. 5 or -1\n",
    "\n",
    "### float\n",
    "\n",
    "floats are positive or negative real number with fractional part denoted by decimals or scientific notation such as E or e e.g. 34.56, 65.6656, 3E4"
   ]
  },
  {
   "cell_type": "code",
   "execution_count": null,
   "id": "8cf866b9",
   "metadata": {},
   "outputs": [],
   "source": [
    "quantity = 2\n",
    "unit_price = 2.5\n",
    "\n",
    "print(type(quantity))\n",
    "print(type(unit_price))\n",
    "\n",
    "\n",
    "net_price = quantity * unit_price\n",
    "print(net_price)\n",
    "\n",
    "print(type(net_price))"
   ]
  },
  {
   "cell_type": "markdown",
   "id": "85579156",
   "metadata": {},
   "source": [
    "### Task\n",
    "\n",
    "Calculate the area of a rectangle having length of 15 cm and width of 10 cm. Use variable assignment and perform calculations using variables. Also display the result."
   ]
  },
  {
   "cell_type": "code",
   "execution_count": null,
   "id": "1b5ffcd1",
   "metadata": {},
   "outputs": [],
   "source": [
    "# Assign values to variables\n"
   ]
  },
  {
   "cell_type": "code",
   "execution_count": null,
   "id": "21b423f3",
   "metadata": {},
   "outputs": [],
   "source": [
    "# Perform Calculation\n"
   ]
  },
  {
   "cell_type": "code",
   "execution_count": null,
   "id": "0f4913d1",
   "metadata": {},
   "outputs": [],
   "source": [
    "# Display the result\n"
   ]
  },
  {
   "cell_type": "code",
   "execution_count": null,
   "id": "f8d73c5a",
   "metadata": {},
   "outputs": [],
   "source": [
    "print(type(area))"
   ]
  },
  {
   "cell_type": "markdown",
   "id": "0d4262fe",
   "metadata": {},
   "source": [
    "# Booleans\n",
    "\n",
    "In python we have boolean that have predifined values 'True' or 'False'"
   ]
  },
  {
   "cell_type": "code",
   "execution_count": null,
   "id": "901521d4",
   "metadata": {},
   "outputs": [],
   "source": [
    "# Create boolean object\n"
   ]
  },
  {
   "cell_type": "code",
   "execution_count": null,
   "id": "2f53f2ac",
   "metadata": {},
   "outputs": [],
   "source": [
    "# print boolean variable\n"
   ]
  },
  {
   "cell_type": "markdown",
   "id": "c41de184",
   "metadata": {},
   "source": [
    "Boolean can also be created by comparison operators"
   ]
  },
  {
   "cell_type": "code",
   "execution_count": null,
   "id": "8d1d4192",
   "metadata": {},
   "outputs": [],
   "source": [
    "# compare two operators and asssign it to new variable\n"
   ]
  },
  {
   "cell_type": "code",
   "execution_count": null,
   "id": "8930785f",
   "metadata": {},
   "outputs": [],
   "source": [
    "# print result\n"
   ]
  },
  {
   "cell_type": "markdown",
   "id": "64aef7c6",
   "metadata": {},
   "source": [
    "###### Boolean can be dispayed as '1' or '0' if type cast it to int"
   ]
  },
  {
   "cell_type": "code",
   "execution_count": null,
   "id": "40cb8fa4",
   "metadata": {},
   "outputs": [],
   "source": [
    "# cast boolean to int\n"
   ]
  },
  {
   "cell_type": "code",
   "execution_count": null,
   "id": "8f88061c",
   "metadata": {},
   "outputs": [],
   "source": [
    "# cast boolean to int\n"
   ]
  },
  {
   "cell_type": "markdown",
   "id": "382bdcba",
   "metadata": {},
   "source": [
    "# Strings"
   ]
  },
  {
   "cell_type": "markdown",
   "id": "e38a5bb8",
   "metadata": {},
   "source": [
    "Strings represent sequnce of characters e.g. 'Jhon' , 'Computer', 'I am hungry', 'Hello World!'\n",
    "\n",
    "Strings are always in double quotes or single quotes"
   ]
  },
  {
   "cell_type": "code",
   "execution_count": null,
   "id": "0882945e",
   "metadata": {},
   "outputs": [],
   "source": [
    "'This is single quoted string'"
   ]
  },
  {
   "cell_type": "code",
   "execution_count": null,
   "id": "428a0d55",
   "metadata": {},
   "outputs": [],
   "source": [
    "\"This is single line sentence with in double quotes\""
   ]
  },
  {
   "cell_type": "markdown",
   "id": "93131cc7",
   "metadata": {},
   "source": [
    "Strings are immutable so once a value assign to it, it can not be changed"
   ]
  },
  {
   "cell_type": "code",
   "execution_count": null,
   "id": "451faba4",
   "metadata": {},
   "outputs": [],
   "source": [
    "# assign string to variables\n",
    "firstName = \"Jhon\"\n",
    "lastName = 'Doe'\n",
    "address = \"8123 King Road KSA\"\n",
    "company = 'Tech 45 Degree'"
   ]
  },
  {
   "cell_type": "code",
   "execution_count": null,
   "id": "265218e6",
   "metadata": {},
   "outputs": [],
   "source": [
    "# print string\n"
   ]
  },
  {
   "cell_type": "code",
   "execution_count": null,
   "id": "8d6d0473",
   "metadata": {},
   "outputs": [],
   "source": [
    "# Be careful with quotes!\n",
    "I'm hungry"
   ]
  },
  {
   "cell_type": "markdown",
   "id": "f6a41136",
   "metadata": {},
   "source": [
    "The reason for the error above is because the single quote in <code>I'm</code> stopped the string. You can use combinations of double and single quotes to get the complete statement."
   ]
  },
  {
   "cell_type": "code",
   "execution_count": null,
   "id": "63a97fe7",
   "metadata": {},
   "outputs": [],
   "source": [
    "\"I'm hungry\""
   ]
  },
  {
   "cell_type": "markdown",
   "id": "b4b3eb36",
   "metadata": {},
   "source": [
    "### Concatenate  +"
   ]
  },
  {
   "cell_type": "code",
   "execution_count": null,
   "id": "80e19f48",
   "metadata": {},
   "outputs": [],
   "source": [
    "# Concatenate two strings and assign to third\n"
   ]
  },
  {
   "cell_type": "code",
   "execution_count": null,
   "id": "3add8e2f",
   "metadata": {},
   "outputs": [],
   "source": [
    "# print fullName\n"
   ]
  },
  {
   "cell_type": "code",
   "execution_count": null,
   "id": "40ca4916",
   "metadata": {},
   "outputs": [],
   "source": [
    "# print firstName five times\n"
   ]
  },
  {
   "cell_type": "markdown",
   "id": "bc6efe9a",
   "metadata": {},
   "source": [
    "# Determine variable type"
   ]
  },
  {
   "cell_type": "code",
   "execution_count": null,
   "id": "2ac5b82a",
   "metadata": {},
   "outputs": [],
   "source": []
  },
  {
   "cell_type": "markdown",
   "id": "6db64aca",
   "metadata": {},
   "source": [
    "# List\n",
    "\n",
    "List are containers to hold multiple objects,\n",
    "\n",
    "List are mutable so it can be change.\n",
    "\n",
    "List are represented by square brackets"
   ]
  },
  {
   "cell_type": "code",
   "execution_count": null,
   "id": "e7b54232",
   "metadata": {},
   "outputs": [],
   "source": [
    "# Create list of friend names\n",
    "my_friends = ['Jhon','Micky','Kyle','Damon']"
   ]
  },
  {
   "cell_type": "code",
   "execution_count": null,
   "id": "542b4978",
   "metadata": {},
   "outputs": [],
   "source": [
    "# Print list\n"
   ]
  },
  {
   "cell_type": "code",
   "execution_count": null,
   "id": "ad6cd9c2",
   "metadata": {},
   "outputs": [],
   "source": [
    "# Describe\n"
   ]
  },
  {
   "cell_type": "markdown",
   "id": "eb56d0ec",
   "metadata": {},
   "source": [
    "### Indexing"
   ]
  },
  {
   "cell_type": "markdown",
   "id": "ff4d192d",
   "metadata": {},
   "source": [
    "To pick element from specific index we define index inside square brackets [].\n",
    "\n",
    "Index will start from 0 and that will return element at spefific index."
   ]
  },
  {
   "cell_type": "code",
   "execution_count": null,
   "id": "b06dd886",
   "metadata": {},
   "outputs": [],
   "source": [
    "# Grab element at 0\n"
   ]
  },
  {
   "cell_type": "code",
   "execution_count": null,
   "id": "bbfb6990",
   "metadata": {},
   "outputs": [],
   "source": [
    "# Grab element at 2\n"
   ]
  },
  {
   "cell_type": "markdown",
   "id": "838dcd58",
   "metadata": {},
   "source": [
    "### Slicing\n",
    "\n",
    "Slicing is used to slice list into sub list and that can be achived by colon inside square brackets [:]"
   ]
  },
  {
   "cell_type": "code",
   "execution_count": null,
   "id": "b63ea67f",
   "metadata": {},
   "outputs": [],
   "source": [
    "my_friends"
   ]
  },
  {
   "cell_type": "code",
   "execution_count": null,
   "id": "ed06bbfa",
   "metadata": {},
   "outputs": [],
   "source": [
    "# Grab everything from 1, 1 is included\n"
   ]
  },
  {
   "cell_type": "code",
   "execution_count": null,
   "id": "a40fa1a5",
   "metadata": {},
   "outputs": [],
   "source": [
    "# Grab everything upto 2, 2 is excluded\n"
   ]
  },
  {
   "cell_type": "code",
   "execution_count": null,
   "id": "d2011dd9",
   "metadata": {},
   "outputs": [],
   "source": [
    "# Grab last element\n"
   ]
  },
  {
   "cell_type": "code",
   "execution_count": null,
   "id": "f74621d5",
   "metadata": {},
   "outputs": [],
   "source": [
    "# Grab everything upto last element, last is excluded\n"
   ]
  },
  {
   "cell_type": "code",
   "execution_count": null,
   "id": "3065289a",
   "metadata": {},
   "outputs": [],
   "source": [
    "# Change element at 2 and print entire list\n"
   ]
  },
  {
   "cell_type": "code",
   "execution_count": null,
   "id": "d04f3e67",
   "metadata": {},
   "outputs": [],
   "source": [
    "# Change element at 1 with int and print entire list\n"
   ]
  },
  {
   "cell_type": "markdown",
   "id": "9d7dca21",
   "metadata": {},
   "source": [
    "### Checking type"
   ]
  },
  {
   "cell_type": "code",
   "execution_count": null,
   "id": "4bc3af74",
   "metadata": {},
   "outputs": [],
   "source": [
    "# Check type of list\n"
   ]
  },
  {
   "cell_type": "code",
   "execution_count": null,
   "id": "36b73e1a",
   "metadata": {},
   "outputs": [],
   "source": [
    "# Check type of 3rd element\n"
   ]
  },
  {
   "cell_type": "code",
   "execution_count": null,
   "id": "5279a840",
   "metadata": {},
   "outputs": [],
   "source": [
    "# Check type of 1st element\n"
   ]
  },
  {
   "cell_type": "markdown",
   "id": "54b89f16",
   "metadata": {},
   "source": [
    "### Concatenation +\n",
    "\n",
    "List can be concatenated"
   ]
  },
  {
   "cell_type": "code",
   "execution_count": null,
   "id": "26add074",
   "metadata": {},
   "outputs": [],
   "source": [
    "# Create new list"
   ]
  },
  {
   "cell_type": "code",
   "execution_count": null,
   "id": "3f125be9",
   "metadata": {},
   "outputs": [],
   "source": [
    "# Concatenate two lists and store it in new variable\n"
   ]
  },
  {
   "cell_type": "code",
   "execution_count": null,
   "id": "a951b611",
   "metadata": {},
   "outputs": [],
   "source": [
    "house_prices = [12,54,22,76,50]"
   ]
  },
  {
   "cell_type": "code",
   "execution_count": null,
   "id": "d906d135",
   "metadata": {},
   "outputs": [],
   "source": [
    "# Multiply list\n"
   ]
  },
  {
   "cell_type": "code",
   "execution_count": null,
   "id": "56c1841a",
   "metadata": {},
   "outputs": [],
   "source": [
    "# Multiply element inside list\n"
   ]
  },
  {
   "cell_type": "markdown",
   "id": "feef42c7",
   "metadata": {},
   "source": [
    "### Operations"
   ]
  },
  {
   "cell_type": "code",
   "execution_count": null,
   "id": "d66b51b5",
   "metadata": {},
   "outputs": [],
   "source": [
    "# Add new item in list\n"
   ]
  },
  {
   "cell_type": "code",
   "execution_count": null,
   "id": "cb9fa4e2",
   "metadata": {},
   "outputs": [],
   "source": [
    "# Remove item from list\n"
   ]
  },
  {
   "cell_type": "code",
   "execution_count": null,
   "id": "f3209fc7",
   "metadata": {},
   "outputs": [],
   "source": [
    "# Cleare list and print result"
   ]
  },
  {
   "cell_type": "markdown",
   "id": "cebb7ee9",
   "metadata": {},
   "source": [
    "# Tuples\n",
    "\n",
    "Tupes are very similar to list but they are immutable so once initialized it can not be change.\n",
    "\n",
    "Better to use for those objects that have constant values e.g. Day of week, Planet Names\n",
    "\n",
    "Tupes are recognized by small brackets ()"
   ]
  },
  {
   "cell_type": "code",
   "execution_count": null,
   "id": "ab50abaf",
   "metadata": {},
   "outputs": [],
   "source": [
    "# Create tuple for days of week\n",
    "days_week = ('Monday','Tuesday','Wednesday','Thursday','Friday','Saturday','Sunday')"
   ]
  },
  {
   "cell_type": "code",
   "execution_count": null,
   "id": "d13868cd",
   "metadata": {},
   "outputs": [],
   "source": [
    "# Check type\n"
   ]
  },
  {
   "cell_type": "code",
   "execution_count": null,
   "id": "7ce8ec2b",
   "metadata": {},
   "outputs": [],
   "source": [
    "days_week??"
   ]
  },
  {
   "cell_type": "markdown",
   "id": "3c024ad8",
   "metadata": {},
   "source": [
    "### Indexing"
   ]
  },
  {
   "cell_type": "code",
   "execution_count": null,
   "id": "04588d4b",
   "metadata": {},
   "outputs": [],
   "source": [
    "# Grab element at first index\n"
   ]
  },
  {
   "cell_type": "code",
   "execution_count": null,
   "id": "942e4038",
   "metadata": {},
   "outputs": [],
   "source": [
    "# Grab Sunday\n"
   ]
  },
  {
   "cell_type": "code",
   "execution_count": null,
   "id": "eac2627d",
   "metadata": {},
   "outputs": [],
   "source": []
  },
  {
   "cell_type": "markdown",
   "id": "2a6e6812",
   "metadata": {},
   "source": [
    "### Slicing\n",
    "Like list we can slice tupes also"
   ]
  },
  {
   "cell_type": "code",
   "execution_count": null,
   "id": "271bd8c4",
   "metadata": {},
   "outputs": [],
   "source": [
    "# Grab everything from 3rd element\n"
   ]
  },
  {
   "cell_type": "code",
   "execution_count": null,
   "id": "165dcafe",
   "metadata": {},
   "outputs": [],
   "source": [
    "# Grab everything from 3rd to 5th element\n"
   ]
  },
  {
   "cell_type": "markdown",
   "id": "4aaca6c2",
   "metadata": {},
   "source": [
    "### Immutability"
   ]
  },
  {
   "cell_type": "code",
   "execution_count": null,
   "id": "2ba1aadc",
   "metadata": {},
   "outputs": [],
   "source": [
    "# Change element at index 1\n"
   ]
  },
  {
   "cell_type": "code",
   "execution_count": null,
   "id": "0594c174",
   "metadata": {},
   "outputs": [],
   "source": [
    "# Add new element in tuple\n"
   ]
  },
  {
   "cell_type": "markdown",
   "id": "5be7304e",
   "metadata": {},
   "source": [
    "# Sets\n",
    "\n",
    "Sets are unordered list to contain unique objects\n",
    "\n",
    "Sets can be created by curly brackets {}"
   ]
  },
  {
   "cell_type": "code",
   "execution_count": null,
   "id": "213d74e7",
   "metadata": {},
   "outputs": [],
   "source": [
    "my_cars = {\"BMW\",\"Tesla\",\"Hyundai\",'Toyota'}"
   ]
  },
  {
   "cell_type": "code",
   "execution_count": null,
   "id": "d1e46dec",
   "metadata": {},
   "outputs": [],
   "source": []
  },
  {
   "cell_type": "code",
   "execution_count": null,
   "id": "1d1af8f7",
   "metadata": {},
   "outputs": [],
   "source": [
    "# Check type\n"
   ]
  },
  {
   "cell_type": "code",
   "execution_count": null,
   "id": "6871164f",
   "metadata": {},
   "outputs": [],
   "source": [
    "my_cars??"
   ]
  },
  {
   "cell_type": "markdown",
   "id": "7d89c855",
   "metadata": {},
   "source": [
    "###### Sets can also be created by set() function"
   ]
  },
  {
   "cell_type": "code",
   "execution_count": null,
   "id": "071336ce",
   "metadata": {},
   "outputs": [],
   "source": [
    "my_fav_colors = set()"
   ]
  },
  {
   "cell_type": "code",
   "execution_count": null,
   "id": "632e5012",
   "metadata": {},
   "outputs": [],
   "source": []
  },
  {
   "cell_type": "code",
   "execution_count": null,
   "id": "923d7b5b",
   "metadata": {},
   "outputs": [],
   "source": [
    "# Add colors to my_fav_colors set\n"
   ]
  },
  {
   "cell_type": "code",
   "execution_count": null,
   "id": "c36a7be1",
   "metadata": {},
   "outputs": [],
   "source": [
    "# Print my_fav_colors\n"
   ]
  },
  {
   "cell_type": "code",
   "execution_count": null,
   "id": "72e15886",
   "metadata": {},
   "outputs": [],
   "source": []
  },
  {
   "cell_type": "markdown",
   "id": "f530299c",
   "metadata": {},
   "source": [
    "### Indexing"
   ]
  },
  {
   "cell_type": "code",
   "execution_count": null,
   "id": "87f88baa",
   "metadata": {},
   "outputs": [],
   "source": [
    "# Grab element at 0 index\n"
   ]
  },
  {
   "cell_type": "code",
   "execution_count": null,
   "id": "1242840c",
   "metadata": {},
   "outputs": [],
   "source": [
    "# Cast it to list and than grab element at 0\n"
   ]
  },
  {
   "cell_type": "code",
   "execution_count": null,
   "id": "c35b044c",
   "metadata": {},
   "outputs": [],
   "source": [
    "list(my_fav_colors)"
   ]
  },
  {
   "cell_type": "markdown",
   "id": "21e055ae",
   "metadata": {},
   "source": [
    "### Slicing"
   ]
  },
  {
   "cell_type": "code",
   "execution_count": null,
   "id": "24b46de8",
   "metadata": {},
   "outputs": [],
   "source": [
    "# Grab all elements from 1\n"
   ]
  },
  {
   "cell_type": "code",
   "execution_count": null,
   "id": "19329f32",
   "metadata": {},
   "outputs": [],
   "source": [
    "# Cast it to list and than Grab all elements from 1\n"
   ]
  },
  {
   "cell_type": "markdown",
   "id": "e3da345b",
   "metadata": {},
   "source": [
    "### None Values"
   ]
  },
  {
   "cell_type": "code",
   "execution_count": null,
   "id": "dd0df6fb",
   "metadata": {},
   "outputs": [],
   "source": []
  },
  {
   "cell_type": "markdown",
   "id": "302f887b",
   "metadata": {},
   "source": [
    "### Union / Update"
   ]
  },
  {
   "cell_type": "code",
   "execution_count": null,
   "id": "2a4dee5e",
   "metadata": {},
   "outputs": [],
   "source": [
    "my_cars = {'BMW','Tesla','Hyundai','Toyota'}\n",
    "my_fav_cars = {'BMW','Hyundai','Genesis'}"
   ]
  },
  {
   "cell_type": "code",
   "execution_count": null,
   "id": "ea1f5463",
   "metadata": {},
   "outputs": [],
   "source": [
    "# union both sets and print it\n"
   ]
  },
  {
   "cell_type": "code",
   "execution_count": null,
   "id": "9337907f",
   "metadata": {},
   "outputs": [],
   "source": [
    "my_cars"
   ]
  },
  {
   "cell_type": "code",
   "execution_count": null,
   "id": "46107c15",
   "metadata": {},
   "outputs": [],
   "source": [
    "# Update both sets and than print it\n"
   ]
  },
  {
   "cell_type": "code",
   "execution_count": null,
   "id": "d8c914b5",
   "metadata": {},
   "outputs": [],
   "source": [
    "my_cars"
   ]
  },
  {
   "cell_type": "markdown",
   "id": "c62c096b",
   "metadata": {},
   "source": [
    "# Dictionary\n",
    "\n",
    "If you are familiar with other langauges than you can think of dictionary are like hash map.\n",
    "\n",
    "In python we have dictionary which contain objects in key: value pair\n",
    "\n",
    "Dictionary are also recognized by curly brackets but they are always in key value pair"
   ]
  },
  {
   "cell_type": "code",
   "execution_count": null,
   "id": "bab68525",
   "metadata": {},
   "outputs": [],
   "source": [
    "my_dict = {\n",
    "           'key1':'value1',\n",
    "           'key2':'value2',\n",
    "           'key3':'vlaue3'\n",
    "          }"
   ]
  },
  {
   "cell_type": "code",
   "execution_count": null,
   "id": "8a24c598",
   "metadata": {},
   "outputs": [],
   "source": [
    "my_dict"
   ]
  },
  {
   "cell_type": "code",
   "execution_count": null,
   "id": "dc7094c8",
   "metadata": {},
   "outputs": [],
   "source": [
    "# Grab element with key2\n"
   ]
  },
  {
   "cell_type": "code",
   "execution_count": null,
   "id": "06153c76",
   "metadata": {},
   "outputs": [],
   "source": [
    "my_dict = {\n",
    "           'key1':'value1',\n",
    "           'key2':'value2',\n",
    "           'key3':'vlaue3',\n",
    "           'key1':'value4'\n",
    "          }"
   ]
  },
  {
   "cell_type": "code",
   "execution_count": null,
   "id": "15a6db3f",
   "metadata": {},
   "outputs": [],
   "source": [
    "my_dict"
   ]
  },
  {
   "cell_type": "code",
   "execution_count": null,
   "id": "de85e2d7",
   "metadata": {},
   "outputs": [],
   "source": [
    "my_dict = {\n",
    "           'key1':'value1',\n",
    "           'key2':'value2',\n",
    "           'key3':'value3',\n",
    "           'key1':'value4',\n",
    "           'key5':'value3',\n",
    "          }"
   ]
  },
  {
   "cell_type": "code",
   "execution_count": null,
   "id": "eaf5254e",
   "metadata": {},
   "outputs": [],
   "source": [
    "my_dict"
   ]
  },
  {
   "cell_type": "code",
   "execution_count": null,
   "id": "93e34ccc",
   "metadata": {},
   "outputs": [],
   "source": [
    "my_dict??"
   ]
  },
  {
   "cell_type": "markdown",
   "id": "1af89ab8",
   "metadata": {},
   "source": [
    "###### Dictionaries are mutable"
   ]
  },
  {
   "cell_type": "code",
   "execution_count": null,
   "id": "9c661f57",
   "metadata": {},
   "outputs": [],
   "source": [
    "# Change element at 2 and print dictionary\n"
   ]
  },
  {
   "cell_type": "code",
   "execution_count": null,
   "id": "364bfbcb",
   "metadata": {},
   "outputs": [],
   "source": [
    "# Subtract operation at element 2\n"
   ]
  },
  {
   "cell_type": "code",
   "execution_count": null,
   "id": "6ded58eb",
   "metadata": {},
   "outputs": [],
   "source": [
    "# Add new element to my_dict and assign list to it\n"
   ]
  },
  {
   "cell_type": "code",
   "execution_count": null,
   "id": "8e1f65a7",
   "metadata": {},
   "outputs": [],
   "source": [
    "type(my_dict['animal'])"
   ]
  },
  {
   "cell_type": "code",
   "execution_count": null,
   "id": "8a6775ec",
   "metadata": {},
   "outputs": [],
   "source": [
    "type(my_dict['key2'])"
   ]
  },
  {
   "cell_type": "code",
   "execution_count": null,
   "id": "97f94cab",
   "metadata": {},
   "outputs": [],
   "source": [
    "type(my_dict['key1'])"
   ]
  },
  {
   "cell_type": "markdown",
   "id": "b3ca89f7",
   "metadata": {},
   "source": [
    "### Nested Dictionary"
   ]
  },
  {
   "cell_type": "code",
   "execution_count": null,
   "id": "5a9d6099",
   "metadata": {},
   "outputs": [],
   "source": [
    "# Dictionary nested inside a dictionary nested inside a dictionary\n",
    "d = {\n",
    "    'key1':\n",
    "           {'nestkey':\n",
    "                       {'subnestkey':'value'}\n",
    "           }\n",
    "    }\n",
    "\n",
    "d"
   ]
  },
  {
   "cell_type": "code",
   "execution_count": null,
   "id": "77ba50b8",
   "metadata": {},
   "outputs": [],
   "source": [
    "# Grab nested element by keep calling the keys\n"
   ]
  },
  {
   "cell_type": "code",
   "execution_count": null,
   "id": "7df81277",
   "metadata": {},
   "outputs": [],
   "source": [
    "# Grap the inner most value\n"
   ]
  },
  {
   "cell_type": "markdown",
   "id": "c8bf8e0d",
   "metadata": {},
   "source": [
    "### Dictionaries Exercise"
   ]
  },
  {
   "cell_type": "code",
   "execution_count": null,
   "id": "fe4b0684",
   "metadata": {},
   "outputs": [],
   "source": [
    "# Definition of countries and capital\n",
    "countries = ['spain', 'france', 'germany', 'norway']\n",
    "capitals = ['madrid', 'paris', 'berlin', 'oslo']\n",
    "\n",
    "# From string in countries and capitals, create dictionary europe\n",
    "\n",
    "\n",
    "#print europe"
   ]
  },
  {
   "cell_type": "code",
   "execution_count": null,
   "id": "684fc304",
   "metadata": {},
   "outputs": [],
   "source": [
    "type(europe)"
   ]
  },
  {
   "cell_type": "markdown",
   "id": "b9faba64",
   "metadata": {},
   "source": [
    "# Object Type Casting\n",
    "You can cast type of any object in Python. Common data types casting functions include:\n",
    "* **int()** (for integer)\n",
    "* **float()**\n",
    "* **str()** (for string)\n",
    "* **bool()** (for Boolean True/False)\n",
    "\n",
    "You can type cast any object throught the following code. The given example is converting **float** to **int**.\n",
    "\n",
    "<code> int(5.8) </code>"
   ]
  },
  {
   "cell_type": "code",
   "execution_count": null,
   "id": "bf6d8ca7",
   "metadata": {},
   "outputs": [],
   "source": [
    "# convert 80 into float type and check its type\n"
   ]
  },
  {
   "cell_type": "code",
   "execution_count": null,
   "id": "c28eaa12",
   "metadata": {},
   "outputs": [],
   "source": [
    "# convert 20.9 into a string and check its type\n"
   ]
  },
  {
   "cell_type": "code",
   "execution_count": null,
   "id": "b3645e3e",
   "metadata": {},
   "outputs": [],
   "source": [
    "# convert a boolean valua into int and check its type\n"
   ]
  },
  {
   "cell_type": "code",
   "execution_count": null,
   "id": "04bd2b09",
   "metadata": {},
   "outputs": [],
   "source": [
    "# convert '123' into float and check its type\n"
   ]
  },
  {
   "cell_type": "code",
   "execution_count": null,
   "id": "7d71e290",
   "metadata": {},
   "outputs": [],
   "source": [
    "# convert my_cars set into list and check its type\n"
   ]
  }
 ],
 "metadata": {
  "kernelspec": {
   "display_name": "Python 3 (ipykernel)",
   "language": "python",
   "name": "python3"
  },
  "language_info": {
   "codemirror_mode": {
    "name": "ipython",
    "version": 3
   },
   "file_extension": ".py",
   "mimetype": "text/x-python",
   "name": "python",
   "nbconvert_exporter": "python",
   "pygments_lexer": "ipython3",
   "version": "3.11.4"
  }
 },
 "nbformat": 4,
 "nbformat_minor": 5
}
